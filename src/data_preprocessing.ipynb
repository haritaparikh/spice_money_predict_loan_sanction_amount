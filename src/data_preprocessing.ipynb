{
 "cells": [
  {
   "cell_type": "markdown",
   "metadata": {
    "colab_type": "text",
    "id": "view-in-github"
   },
   "source": [
    "<a href=\"https://colab.research.google.com/github/pratzz/Diabetes-Readmission-Prediction/blob/main/Data_Preprocessing.ipynb\" target=\"_parent\"><img src=\"https://colab.research.google.com/assets/colab-badge.svg\" alt=\"Open In Colab\"/></a>"
   ]
  },
  {
   "cell_type": "code",
   "execution_count": 1,
   "metadata": {
    "id": "cDVaJEV3kjUq"
   },
   "outputs": [],
   "source": [
    "import pandas as pd\n",
    "import numpy as np\n",
    "from sklearn.model_selection import train_test_split\n",
    "from pandas_profiling import ProfileReport\n",
    "import os\n",
    "import time"
   ]
  },
  {
   "cell_type": "code",
   "execution_count": 2,
   "metadata": {},
   "outputs": [],
   "source": [
    "timestr = time.strftime(\"%Y%m%d-%H%M%S\")\n",
    "output_path = os.path.join(\"../output\")\n",
    "data_path = \"../data\"\n",
    "data_exploration_path = os.path.join(output_path, \"data_exploration\")\n",
    "processed_data_path = os.path.join(data_path, \"processed_data\")\n",
    "if not os.path.exists(data_exploration_path):\n",
    "    os.makedirs(data_exploration_path) \n",
    "if not os.path.exists(processed_data_path):\n",
    "    os.makedirs(processed_data_path)"
   ]
  },
  {
   "cell_type": "code",
   "execution_count": 3,
   "metadata": {
    "id": "XKP9zgEGkjU4"
   },
   "outputs": [],
   "source": [
    "train_data = pd.read_csv(os.path.join(data_path, \"raw_data/assignment_train.csv\"))\n",
    "test_data = pd.read_csv(os.path.join(data_path, \"raw_data/assignment_test.csv\"))\n",
    "\n",
    "# train_data.head(10)"
   ]
  },
  {
   "cell_type": "code",
   "execution_count": 4,
   "metadata": {},
   "outputs": [
    {
     "data": {
      "text/html": [
       "<div>\n",
       "<style scoped>\n",
       "    .dataframe tbody tr th:only-of-type {\n",
       "        vertical-align: middle;\n",
       "    }\n",
       "\n",
       "    .dataframe tbody tr th {\n",
       "        vertical-align: top;\n",
       "    }\n",
       "\n",
       "    .dataframe thead th {\n",
       "        text-align: right;\n",
       "    }\n",
       "</style>\n",
       "<table border=\"1\" class=\"dataframe\">\n",
       "  <thead>\n",
       "    <tr style=\"text-align: right;\">\n",
       "      <th></th>\n",
       "      <th>agent_id</th>\n",
       "      <th>3M_all_min</th>\n",
       "      <th>3M_all_max</th>\n",
       "      <th>3M_all_avg</th>\n",
       "      <th>3M_weekly_all_avg</th>\n",
       "      <th>3M_daily_all_avg</th>\n",
       "      <th>7days_all_gap_days</th>\n",
       "      <th>all_gap_7days_last_vs_previous</th>\n",
       "      <th>30days_all_gap_days</th>\n",
       "      <th>all_gap_30days_last_vs_previous</th>\n",
       "      <th>...</th>\n",
       "      <th>all_gtv_last10days_d1</th>\n",
       "      <th>all_gtv_last10days_d2</th>\n",
       "      <th>all_gtv_last10days_d3</th>\n",
       "      <th>all_gtv_last10days_d4</th>\n",
       "      <th>all_gtv_last10days_d5</th>\n",
       "      <th>all_gtv_last10days_d6</th>\n",
       "      <th>all_gtv_last10days_d7</th>\n",
       "      <th>all_gtv_last10days_d8</th>\n",
       "      <th>all_gtv_last10days_d9</th>\n",
       "      <th>business_risk</th>\n",
       "    </tr>\n",
       "  </thead>\n",
       "  <tbody>\n",
       "    <tr>\n",
       "      <th>0</th>\n",
       "      <td>1</td>\n",
       "      <td>1920.0</td>\n",
       "      <td>18000.0</td>\n",
       "      <td>6640.000000</td>\n",
       "      <td>0.000000</td>\n",
       "      <td>0.000000</td>\n",
       "      <td>0</td>\n",
       "      <td>0.0</td>\n",
       "      <td>0</td>\n",
       "      <td>0.000000</td>\n",
       "      <td>...</td>\n",
       "      <td>0.0</td>\n",
       "      <td>0.0</td>\n",
       "      <td>0.0</td>\n",
       "      <td>0.0</td>\n",
       "      <td>0.0</td>\n",
       "      <td>0.0</td>\n",
       "      <td>0.0</td>\n",
       "      <td>0.0</td>\n",
       "      <td>0.0</td>\n",
       "      <td>-5.866667</td>\n",
       "    </tr>\n",
       "    <tr>\n",
       "      <th>1</th>\n",
       "      <td>2</td>\n",
       "      <td>537256.0</td>\n",
       "      <td>736296.0</td>\n",
       "      <td>641281.000000</td>\n",
       "      <td>207171.666700</td>\n",
       "      <td>27622.888890</td>\n",
       "      <td>1</td>\n",
       "      <td>0.0</td>\n",
       "      <td>1</td>\n",
       "      <td>0.000000</td>\n",
       "      <td>...</td>\n",
       "      <td>31580.0</td>\n",
       "      <td>39835.0</td>\n",
       "      <td>14000.0</td>\n",
       "      <td>7200.0</td>\n",
       "      <td>68900.0</td>\n",
       "      <td>0.0</td>\n",
       "      <td>23000.0</td>\n",
       "      <td>59700.0</td>\n",
       "      <td>73608.0</td>\n",
       "      <td>-0.833333</td>\n",
       "    </tr>\n",
       "    <tr>\n",
       "      <th>2</th>\n",
       "      <td>3</td>\n",
       "      <td>79820.0</td>\n",
       "      <td>140612.0</td>\n",
       "      <td>102150.000000</td>\n",
       "      <td>66743.916670</td>\n",
       "      <td>8899.188889</td>\n",
       "      <td>3</td>\n",
       "      <td>1.0</td>\n",
       "      <td>9</td>\n",
       "      <td>3.333333</td>\n",
       "      <td>...</td>\n",
       "      <td>2030.0</td>\n",
       "      <td>14550.0</td>\n",
       "      <td>21969.0</td>\n",
       "      <td>0.0</td>\n",
       "      <td>0.0</td>\n",
       "      <td>2044.0</td>\n",
       "      <td>0.0</td>\n",
       "      <td>0.0</td>\n",
       "      <td>26960.0</td>\n",
       "      <td>-1.266667</td>\n",
       "    </tr>\n",
       "    <tr>\n",
       "      <th>3</th>\n",
       "      <td>4</td>\n",
       "      <td>12266.0</td>\n",
       "      <td>12266.0</td>\n",
       "      <td>4088.666667</td>\n",
       "      <td>0.833333</td>\n",
       "      <td>0.111111</td>\n",
       "      <td>6</td>\n",
       "      <td>0.0</td>\n",
       "      <td>29</td>\n",
       "      <td>0.966667</td>\n",
       "      <td>...</td>\n",
       "      <td>0.0</td>\n",
       "      <td>0.0</td>\n",
       "      <td>0.0</td>\n",
       "      <td>0.0</td>\n",
       "      <td>0.0</td>\n",
       "      <td>0.0</td>\n",
       "      <td>10.0</td>\n",
       "      <td>0.0</td>\n",
       "      <td>0.0</td>\n",
       "      <td>-6.233333</td>\n",
       "    </tr>\n",
       "    <tr>\n",
       "      <th>4</th>\n",
       "      <td>5</td>\n",
       "      <td>0.0</td>\n",
       "      <td>0.0</td>\n",
       "      <td>0.000000</td>\n",
       "      <td>0.000000</td>\n",
       "      <td>0.000000</td>\n",
       "      <td>0</td>\n",
       "      <td>0.0</td>\n",
       "      <td>0</td>\n",
       "      <td>0.000000</td>\n",
       "      <td>...</td>\n",
       "      <td>0.0</td>\n",
       "      <td>0.0</td>\n",
       "      <td>0.0</td>\n",
       "      <td>0.0</td>\n",
       "      <td>0.0</td>\n",
       "      <td>0.0</td>\n",
       "      <td>0.0</td>\n",
       "      <td>0.0</td>\n",
       "      <td>0.0</td>\n",
       "      <td>-6.233333</td>\n",
       "    </tr>\n",
       "    <tr>\n",
       "      <th>5</th>\n",
       "      <td>6</td>\n",
       "      <td>1243.0</td>\n",
       "      <td>1243.0</td>\n",
       "      <td>414.333333</td>\n",
       "      <td>38.666667</td>\n",
       "      <td>5.155556</td>\n",
       "      <td>0</td>\n",
       "      <td>0.0</td>\n",
       "      <td>0</td>\n",
       "      <td>0.000000</td>\n",
       "      <td>...</td>\n",
       "      <td>0.0</td>\n",
       "      <td>0.0</td>\n",
       "      <td>0.0</td>\n",
       "      <td>0.0</td>\n",
       "      <td>0.0</td>\n",
       "      <td>0.0</td>\n",
       "      <td>0.0</td>\n",
       "      <td>0.0</td>\n",
       "      <td>0.0</td>\n",
       "      <td>-5.866667</td>\n",
       "    </tr>\n",
       "    <tr>\n",
       "      <th>6</th>\n",
       "      <td>7</td>\n",
       "      <td>422255.0</td>\n",
       "      <td>578723.0</td>\n",
       "      <td>485400.000000</td>\n",
       "      <td>101542.750000</td>\n",
       "      <td>13539.033330</td>\n",
       "      <td>0</td>\n",
       "      <td>1.0</td>\n",
       "      <td>5</td>\n",
       "      <td>0.000000</td>\n",
       "      <td>...</td>\n",
       "      <td>4484.0</td>\n",
       "      <td>2000.0</td>\n",
       "      <td>27055.0</td>\n",
       "      <td>9170.0</td>\n",
       "      <td>14206.0</td>\n",
       "      <td>37163.0</td>\n",
       "      <td>20662.0</td>\n",
       "      <td>0.0</td>\n",
       "      <td>18656.0</td>\n",
       "      <td>3.366667</td>\n",
       "    </tr>\n",
       "    <tr>\n",
       "      <th>7</th>\n",
       "      <td>8</td>\n",
       "      <td>174792.0</td>\n",
       "      <td>678892.0</td>\n",
       "      <td>489119.333300</td>\n",
       "      <td>229710.666700</td>\n",
       "      <td>30628.088890</td>\n",
       "      <td>1</td>\n",
       "      <td>0.0</td>\n",
       "      <td>1</td>\n",
       "      <td>2.000000</td>\n",
       "      <td>...</td>\n",
       "      <td>11934.0</td>\n",
       "      <td>4881.0</td>\n",
       "      <td>4724.0</td>\n",
       "      <td>0.0</td>\n",
       "      <td>36534.0</td>\n",
       "      <td>42238.0</td>\n",
       "      <td>58890.0</td>\n",
       "      <td>149.0</td>\n",
       "      <td>33875.0</td>\n",
       "      <td>1.966667</td>\n",
       "    </tr>\n",
       "    <tr>\n",
       "      <th>8</th>\n",
       "      <td>9</td>\n",
       "      <td>208358.0</td>\n",
       "      <td>424651.0</td>\n",
       "      <td>314300.333300</td>\n",
       "      <td>30577.583330</td>\n",
       "      <td>4077.011111</td>\n",
       "      <td>4</td>\n",
       "      <td>4.0</td>\n",
       "      <td>14</td>\n",
       "      <td>1.153846</td>\n",
       "      <td>...</td>\n",
       "      <td>35.0</td>\n",
       "      <td>0.0</td>\n",
       "      <td>0.0</td>\n",
       "      <td>0.0</td>\n",
       "      <td>2000.0</td>\n",
       "      <td>7510.0</td>\n",
       "      <td>0.0</td>\n",
       "      <td>399.0</td>\n",
       "      <td>184.0</td>\n",
       "      <td>1.633333</td>\n",
       "    </tr>\n",
       "    <tr>\n",
       "      <th>9</th>\n",
       "      <td>10</td>\n",
       "      <td>202385.0</td>\n",
       "      <td>343188.0</td>\n",
       "      <td>275367.666700</td>\n",
       "      <td>63917.000000</td>\n",
       "      <td>8522.266667</td>\n",
       "      <td>2</td>\n",
       "      <td>0.0</td>\n",
       "      <td>6</td>\n",
       "      <td>7.000000</td>\n",
       "      <td>...</td>\n",
       "      <td>4800.0</td>\n",
       "      <td>7800.0</td>\n",
       "      <td>1510.0</td>\n",
       "      <td>0.0</td>\n",
       "      <td>0.0</td>\n",
       "      <td>8899.0</td>\n",
       "      <td>13660.0</td>\n",
       "      <td>4560.0</td>\n",
       "      <td>9800.0</td>\n",
       "      <td>2.933333</td>\n",
       "    </tr>\n",
       "  </tbody>\n",
       "</table>\n",
       "<p>10 rows × 94 columns</p>\n",
       "</div>"
      ],
      "text/plain": [
       "   agent_id  3M_all_min  3M_all_max     3M_all_avg  3M_weekly_all_avg  \\\n",
       "0         1      1920.0     18000.0    6640.000000           0.000000   \n",
       "1         2    537256.0    736296.0  641281.000000      207171.666700   \n",
       "2         3     79820.0    140612.0  102150.000000       66743.916670   \n",
       "3         4     12266.0     12266.0    4088.666667           0.833333   \n",
       "4         5         0.0         0.0       0.000000           0.000000   \n",
       "5         6      1243.0      1243.0     414.333333          38.666667   \n",
       "6         7    422255.0    578723.0  485400.000000      101542.750000   \n",
       "7         8    174792.0    678892.0  489119.333300      229710.666700   \n",
       "8         9    208358.0    424651.0  314300.333300       30577.583330   \n",
       "9        10    202385.0    343188.0  275367.666700       63917.000000   \n",
       "\n",
       "   3M_daily_all_avg  7days_all_gap_days  all_gap_7days_last_vs_previous  \\\n",
       "0          0.000000                   0                             0.0   \n",
       "1      27622.888890                   1                             0.0   \n",
       "2       8899.188889                   3                             1.0   \n",
       "3          0.111111                   6                             0.0   \n",
       "4          0.000000                   0                             0.0   \n",
       "5          5.155556                   0                             0.0   \n",
       "6      13539.033330                   0                             1.0   \n",
       "7      30628.088890                   1                             0.0   \n",
       "8       4077.011111                   4                             4.0   \n",
       "9       8522.266667                   2                             0.0   \n",
       "\n",
       "   30days_all_gap_days  all_gap_30days_last_vs_previous  ...  \\\n",
       "0                    0                         0.000000  ...   \n",
       "1                    1                         0.000000  ...   \n",
       "2                    9                         3.333333  ...   \n",
       "3                   29                         0.966667  ...   \n",
       "4                    0                         0.000000  ...   \n",
       "5                    0                         0.000000  ...   \n",
       "6                    5                         0.000000  ...   \n",
       "7                    1                         2.000000  ...   \n",
       "8                   14                         1.153846  ...   \n",
       "9                    6                         7.000000  ...   \n",
       "\n",
       "   all_gtv_last10days_d1  all_gtv_last10days_d2  all_gtv_last10days_d3  \\\n",
       "0                    0.0                    0.0                    0.0   \n",
       "1                31580.0                39835.0                14000.0   \n",
       "2                 2030.0                14550.0                21969.0   \n",
       "3                    0.0                    0.0                    0.0   \n",
       "4                    0.0                    0.0                    0.0   \n",
       "5                    0.0                    0.0                    0.0   \n",
       "6                 4484.0                 2000.0                27055.0   \n",
       "7                11934.0                 4881.0                 4724.0   \n",
       "8                   35.0                    0.0                    0.0   \n",
       "9                 4800.0                 7800.0                 1510.0   \n",
       "\n",
       "   all_gtv_last10days_d4  all_gtv_last10days_d5  all_gtv_last10days_d6  \\\n",
       "0                    0.0                    0.0                    0.0   \n",
       "1                 7200.0                68900.0                    0.0   \n",
       "2                    0.0                    0.0                 2044.0   \n",
       "3                    0.0                    0.0                    0.0   \n",
       "4                    0.0                    0.0                    0.0   \n",
       "5                    0.0                    0.0                    0.0   \n",
       "6                 9170.0                14206.0                37163.0   \n",
       "7                    0.0                36534.0                42238.0   \n",
       "8                    0.0                 2000.0                 7510.0   \n",
       "9                    0.0                    0.0                 8899.0   \n",
       "\n",
       "   all_gtv_last10days_d7  all_gtv_last10days_d8  all_gtv_last10days_d9  \\\n",
       "0                    0.0                    0.0                    0.0   \n",
       "1                23000.0                59700.0                73608.0   \n",
       "2                    0.0                    0.0                26960.0   \n",
       "3                   10.0                    0.0                    0.0   \n",
       "4                    0.0                    0.0                    0.0   \n",
       "5                    0.0                    0.0                    0.0   \n",
       "6                20662.0                    0.0                18656.0   \n",
       "7                58890.0                  149.0                33875.0   \n",
       "8                    0.0                  399.0                  184.0   \n",
       "9                13660.0                 4560.0                 9800.0   \n",
       "\n",
       "   business_risk  \n",
       "0      -5.866667  \n",
       "1      -0.833333  \n",
       "2      -1.266667  \n",
       "3      -6.233333  \n",
       "4      -6.233333  \n",
       "5      -5.866667  \n",
       "6       3.366667  \n",
       "7       1.966667  \n",
       "8       1.633333  \n",
       "9       2.933333  \n",
       "\n",
       "[10 rows x 94 columns]"
      ]
     },
     "execution_count": 4,
     "metadata": {},
     "output_type": "execute_result"
    }
   ],
   "source": [
    "train_data.head(10)"
   ]
  },
  {
   "cell_type": "markdown",
   "metadata": {},
   "source": [
    "### Data Profiling & Analysis \n"
   ]
  },
  {
   "cell_type": "code",
   "execution_count": 5,
   "metadata": {},
   "outputs": [
    {
     "data": {
      "application/vnd.jupyter.widget-view+json": {
       "model_id": "cb39bbbc7e1d46eb8cfc036507b8efde",
       "version_major": 2,
       "version_minor": 0
      },
      "text/plain": [
       "HBox(children=(HTML(value='Summarize dataset'), FloatProgress(value=0.0, max=107.0), HTML(value='')))"
      ]
     },
     "metadata": {},
     "output_type": "display_data"
    },
    {
     "name": "stdout",
     "output_type": "stream",
     "text": [
      "\n"
     ]
    },
    {
     "data": {
      "application/vnd.jupyter.widget-view+json": {
       "model_id": "c853fadbb2dd4be6a51f929cffc4c68d",
       "version_major": 2,
       "version_minor": 0
      },
      "text/plain": [
       "HBox(children=(HTML(value='Generate report structure'), FloatProgress(value=0.0, max=1.0), HTML(value='')))"
      ]
     },
     "metadata": {},
     "output_type": "display_data"
    },
    {
     "name": "stdout",
     "output_type": "stream",
     "text": [
      "\n"
     ]
    },
    {
     "data": {
      "application/vnd.jupyter.widget-view+json": {
       "model_id": "",
       "version_major": 2,
       "version_minor": 0
      },
      "text/plain": [
       "HBox(children=(HTML(value='Render widgets'), FloatProgress(value=0.0, max=1.0), HTML(value='')))"
      ]
     },
     "metadata": {},
     "output_type": "display_data"
    },
    {
     "data": {
      "application/vnd.jupyter.widget-view+json": {
       "model_id": "f70d04b4579d42e5b311266393dbb665",
       "version_major": 2,
       "version_minor": 0
      },
      "text/plain": [
       "VBox(children=(Tab(children=(Tab(children=(GridBox(children=(VBox(children=(GridspecLayout(children=(HTML(valu…"
      ]
     },
     "metadata": {},
     "output_type": "display_data"
    }
   ],
   "source": [
    "profile_report = ProfileReport(train_data, title=\"Pandas Profiling Report\")\n",
    "profile_report.to_widgets()"
   ]
  },
  {
   "cell_type": "code",
   "execution_count": 6,
   "metadata": {},
   "outputs": [
    {
     "data": {
      "application/vnd.jupyter.widget-view+json": {
       "model_id": "60d8c9b78b734565a832b68e8b9f4a80",
       "version_major": 2,
       "version_minor": 0
      },
      "text/plain": [
       "HBox(children=(HTML(value='Render HTML'), FloatProgress(value=0.0, max=1.0), HTML(value='')))"
      ]
     },
     "metadata": {},
     "output_type": "display_data"
    },
    {
     "name": "stdout",
     "output_type": "stream",
     "text": [
      "\n"
     ]
    },
    {
     "data": {
      "application/vnd.jupyter.widget-view+json": {
       "model_id": "3102426043914122ba5afbbebba67360",
       "version_major": 2,
       "version_minor": 0
      },
      "text/plain": [
       "HBox(children=(HTML(value='Export report to file'), FloatProgress(value=0.0, max=1.0), HTML(value='')))"
      ]
     },
     "metadata": {},
     "output_type": "display_data"
    },
    {
     "name": "stdout",
     "output_type": "stream",
     "text": [
      "\n"
     ]
    }
   ],
   "source": [
    "profile_report.to_file(os.path.join(data_exploration_path, \"profile_report_1__%s.html\"%timestr)) "
   ]
  },
  {
   "cell_type": "markdown",
   "metadata": {},
   "source": [
    "## Vif_drop_columns"
   ]
  },
  {
   "cell_type": "markdown",
   "metadata": {},
   "source": [
    "from statsmodels.stats.outliers_influence import variance_inflation_factor    \n",
    "\n",
    "def calculate_vif_(X, thresh=5.0):\n",
    "    variables = list(range(X.shape[1]))\n",
    "    dropped = True\n",
    "    while dropped:\n",
    "        dropped = False\n",
    "        vif = [variance_inflation_factor(X.iloc[:, variables].values, ix)\n",
    "               for ix in range(X.iloc[:, variables].shape[1])]\n",
    "\n",
    "        maxloc = vif.index(max(vif))\n",
    "        if max(vif) > thresh:\n",
    "            print('dropping \\'' + X.iloc[:, variables].columns[maxloc] +\n",
    "                  '\\' at index: ' + str(maxloc))\n",
    "            del variables[maxloc]\n",
    "            dropped = True\n",
    "\n",
    "    print('Remaining variables:')\n",
    "    print(X.columns[variables])\n",
    "    return X.iloc[:, variables]\n",
    "\n",
    "# calculate_vif_(x_train, 5)"
   ]
  },
  {
   "cell_type": "markdown",
   "metadata": {},
   "source": [
    "vif_keep_col = ['7days_all_gap_days', 'all_gap_7days_last_vs_previous',\n",
    "       '30days_all_gap_days', 'all_gap_30days_last_vs_previous',\n",
    "       'mtd_all_gap_days', 'all_gap_mtd_previous_days', 'all_last_day',\n",
    "       'all_last30_stable', 'all_last30_inc_count', 'all_consistency_index',\n",
    "       'avg_all_gap_days_d1_10', 'avg_all_gap_days_d11_20',\n",
    "       'all_gap_days_d1_10_thisvsprev', 'all_gap_days_d11_20_thisvsprev',\n",
    "       'all_gap_days_d20_31_thisvsprev', 'all_7days_min_thisvs4w',\n",
    "       'all_7days_trend_vs4weeks', 'all_7days_trend_vs10weeks',\n",
    "       'all_7days_vslast_month7days', 'all_7days_max_thisvs10w',\n",
    "       'all_ystrday_vsmin10d', 'all_ystrday_trend_vs10d',\n",
    "       'all_ystrday_vsdaybfr', 'all_mrr_trend_vs6M', 'all_lst30days_vsprvmnth',\n",
    "       'all_mtd_vs_min_lst3M', 'all_trend_mtdvs3M_sameday',\n",
    "       'all_norm_growth_m1', 'all_norm_growth_m2', 'all_norm_growth_m3',\n",
    "       'all_norm_growth_m4', 'all_norm_growth_m5', 'all_norm_growth_m6',\n",
    "       'all_norm_growth_index_last', 'all_gtv_last12Months_m12',\n",
    "       'all_gtv_last10days_d3', 'all_gtv_last10days_d4',\n",
    "       'all_gtv_last10days_d6', 'all_gtv_last10days_d7',\n",
    "       'all_gtv_last10days_d8', 'all_gtv_last10days_d9']\n"
   ]
  },
  {
   "cell_type": "markdown",
   "metadata": {},
   "source": [
    "x_train = x_train[vif_keep_col]\n",
    "x_val = x_val[vif_keep_col]\n",
    "\n",
    "x_val.shape"
   ]
  },
  {
   "cell_type": "markdown",
   "metadata": {},
   "source": [
    "## Log Transformation log(x - (min(x)-1))¶"
   ]
  },
  {
   "cell_type": "markdown",
   "metadata": {},
   "source": [
    "for c in vif_keep_col:\n",
    "    x_train[c] = np.log(x_train[c] - (min(x_train[c]) - 1))\n",
    "x_train.shape\n",
    "\n",
    "for c in vif_keep_col:\n",
    "    x_val[c] = np.log(x_val[c] - (min(x_val[c]) - 1))\n",
    "x_val.shape"
   ]
  },
  {
   "cell_type": "markdown",
   "metadata": {},
   "source": [
    "##### Splitting data into train and validation datasets \n"
   ]
  },
  {
   "cell_type": "code",
   "execution_count": 7,
   "metadata": {},
   "outputs": [],
   "source": [
    "target='business_risk'\n",
    "\n",
    "X = train_data.drop([target],1)\n",
    "y = train_data[target]\n",
    "# Divide the training data given to train and validation data frames\n",
    "x_train, x_val, y_train, y_val = train_test_split(X, y, test_size=0.2, random_state=42)"
   ]
  },
  {
   "cell_type": "markdown",
   "metadata": {},
   "source": [
    "##### Saving data on disk"
   ]
  },
  {
   "cell_type": "code",
   "execution_count": 8,
   "metadata": {},
   "outputs": [],
   "source": [
    "x_train.to_csv(os.path.join(processed_data_path, \"x_train.csv\"),index=False)\n",
    "x_val.to_csv(os.path.join(processed_data_path, \"x_val.csv\"),index=False)\n",
    "y_train.to_csv(os.path.join(processed_data_path, \"y_train.csv\"),index=False)\n",
    "y_val.to_csv(os.path.join(processed_data_path, \"y_val.csv\"),index=False)\n",
    "test_data.to_csv(os.path.join(processed_data_path, \"x_test.csv\"),index=False)"
   ]
  },
  {
   "cell_type": "code",
   "execution_count": null,
   "metadata": {},
   "outputs": [],
   "source": []
  }
 ],
 "metadata": {
  "colab": {
   "include_colab_link": true,
   "name": "Data Preprocessing.ipynb",
   "provenance": []
  },
  "kernelspec": {
   "display_name": "Python 3",
   "language": "python",
   "name": "python3"
  },
  "language_info": {
   "codemirror_mode": {
    "name": "ipython",
    "version": 3
   },
   "file_extension": ".py",
   "mimetype": "text/x-python",
   "name": "python",
   "nbconvert_exporter": "python",
   "pygments_lexer": "ipython3",
   "version": "3.8.5"
  }
 },
 "nbformat": 4,
 "nbformat_minor": 1
}
